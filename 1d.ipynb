{
 "cells": [
  {
   "cell_type": "markdown",
   "metadata": {},
   "source": [
    "\n",
    "The Schroedinger equation is:\n",
    "$$i \\hbar \\partial_t \\Psi(t,x) = H \\cdot \\Psi(t,x)$$\n",
    "\n",
    "$$H = \\frac{-\\hbar^2}{2 \\mu} (\\partial_x)^2 + V(t,x)$$\n",
    "\n",
    "We use the split step Fourier method. We borrow it from this [post](http://jakevdp.github.io/blog/2012/09/05/quantum-python/):\n",
    "\n",
    "\n",
    "\n",
    "1. Choose $a$, $b$, $N$, and $k_0$ as above, sufficient to represent the initial state of your wave function $\\psi(x)$. (Warning: this is perhaps the hardest part of the entire solution. If limits in $x$ or $k$ are chosen which do not suit your problem, then the approximations used above can destroy the accuracy of the calculation!) Once these are chosen, then $\\Delta x = (b - a) / N$ and $\\Delta k = 2\\pi / (b - a)$. Define $x_n = a + n \\Delta x$ and $k_m = k_0 + m \\Delta k$.\n",
    "\n",
    "2. Discretize the wave-functions on this grid. Let $\\psi_n(t) = \\psi(x_n, t)$, $V_n = V(x_n)$, and $\\widetilde{\\psi}_m = \\widetilde{\\psi}(k_m, t)$.\n",
    "To progress the system by a time-step $\\Delta t$, perform the following:\n",
    "* Compute a half-step in $x$: $\\psi_n \\longleftarrow \\psi_n \\exp[-i (\\Delta t / 2) (V_n / \\hbar)]$\n",
    "* Calculate $\\widetilde{\\psi}_m$ from $\\psi_n$ using the FFT.\n",
    "* Compute a full-step in $k$: $\\widetilde{\\psi}_m \\longleftarrow \\widetilde{\\psi}_m \\exp[-i \\hbar (k \\cdot k) \\Delta t / (2 m)]$\n",
    "*  Calculate $\\psi_n$ from $\\widetilde{\\psi}_m$ using the inverse FFT.\n",
    "* Compute a second half-step in $x$: $\\psi_n \\longleftarrow \\psi_n \\exp[-i (\\Delta t / 2)(V_n / \\hbar)]$\n",
    "1. Goto step 3 until the desired time is reached.\n"
   ]
  },
  {
   "cell_type": "code",
   "execution_count": 1,
   "metadata": {
    "collapsed": false
   },
   "outputs": [
    {
     "data": {
      "text/plain": [
       "propagate (generic function with 2 methods)"
      ]
     },
     "execution_count": 1,
     "metadata": {},
     "output_type": "execute_result"
    }
   ],
   "source": [
    "# We use the split step Fourier method. \n",
    "# We borrow it from this [post](http://jakevdp.github.io/blog/2012/09/05/quantum-python/)\n",
    "x_min = -1.\n",
    "x_max = 1.\n",
    "lx = x_max - x_min\n",
    "N = 100\n",
    "dx = lx/N\n",
    "xs = linspace(x_min, x_max - dx, N)\n",
    "@assert step(xs) ≈ dx\n",
    "k_min = -π/dx\n",
    "dk = 2π/lx\n",
    "k_max = k_min + N * dk\n",
    "ks = linspace(k_min, k_max - dk, N)\n",
    "\n",
    "dt = dx^2\n",
    "ħ = 1\n",
    "μ = 1 # mass\n",
    "\n",
    "V(x) = 1x^2\n",
    "Vs = map(V, xs)\n",
    "\n",
    "ψ_0 = normalize!(map(x -> exp(-100(x - 0)^2), xs))/√(lx)\n",
    "ρ_0 = @. abs(ψ_0)^2\n",
    "@assert sum(ρ_0) * lx ≈ 1\n",
    "\n",
    "const eigenvalues_propagator_x = @. exp(-im*(dt/2)*Vs/ħ)\n",
    "const eigenvalues_propagator_k = @. exp(-im*ħ*ks^2 * dt /(2μ))\n",
    "\n",
    "@assert all(@. abs(eigenvalues_propagator_x) ≈ 1) \"eigenvalues must be unitary.\"\n",
    "@assert all(@. abs(eigenvalues_propagator_k) ≈ 1) \"eigenvalues must be unitary.\"\n",
    "\n",
    "propagate_x(ψ) = eigenvalues_propagator_x .* ψ\n",
    "propagate_k(ψ) = ifft(eigenvalues_propagator_k .* fft(ψ))\n",
    "propagate(ψ) = propagate_x(propagate_k(ψ))\n",
    "function propagate(ψ, n)\n",
    "    norm_in = norm(ψ)\n",
    "    for _ in 1:n\n",
    "        ψ = propagate(ψ)\n",
    "    end\n",
    "    norm_out = norm(ψ)\n",
    "    @assert norm_in ≈ norm_out \"propagation must be unitary.\"\n",
    "    ψ\n",
    "end"
   ]
  },
  {
   "cell_type": "code",
   "execution_count": 3,
   "metadata": {
    "collapsed": false
   },
   "outputs": [
    {
     "name": "stderr",
     "output_type": "stream",
     "text": [
      "\u001b[1m\u001b[36mINFO: \u001b[39m\u001b[22m\u001b[36mSaved animation to /home/jan/Documents/notebooks/SplitFourierSchroedinger/tmp.gif\n",
      "\u001b[39m"
     ]
    },
    {
     "data": {
      "text/html": [
       "<img src=\"tmp.gif?0.27717668917235794>\" />"
      ],
      "text/plain": [
       "Plots.AnimatedGif(\"/home/jan/Documents/notebooks/SplitFourierSchroedinger/tmp.gif\")"
      ]
     },
     "execution_count": 3,
     "metadata": {},
     "output_type": "execute_result"
    }
   ],
   "source": [
    "using Plots\n",
    "ψ = ψ_0\n",
    "\n",
    "@gif for n in 1:100\n",
    "    ψ = propagate(ψ, 1)\n",
    "    ρ = @. abs(ψ)^2\n",
    "    plot(xs, ρ, label=\"rho_$n\")\n",
    "    plot!(xs, Vs/10, label=\"Potential\")\n",
    "end every 1"
   ]
  },
  {
   "cell_type": "code",
   "execution_count": null,
   "metadata": {
    "collapsed": true
   },
   "outputs": [],
   "source": []
  }
 ],
 "metadata": {
  "anaconda-cloud": {},
  "kernelspec": {
   "display_name": "Julia 0.6.0",
   "language": "julia",
   "name": "julia-0.6"
  },
  "language_info": {
   "file_extension": ".jl",
   "mimetype": "application/julia",
   "name": "julia",
   "version": "0.6.0"
  }
 },
 "nbformat": 4,
 "nbformat_minor": 2
}
